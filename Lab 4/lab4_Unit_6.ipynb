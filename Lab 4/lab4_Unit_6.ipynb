{
 "cells": [
  {
   "cell_type": "code",
   "execution_count": null,
   "metadata": {},
   "outputs": [],
   "source": [
    "# Introduction Dictionary and Sets\n",
    "# Page 8, 11, 12, 13, 15, 16, 18"
   ]
  },
  {
   "cell_type": "code",
   "execution_count": 8,
   "metadata": {},
   "outputs": [
    {
     "name": "stdout",
     "output_type": "stream",
     "text": [
      "dict_keys(['1', '2', '3'])\n",
      "dict_values(['Red', 'Yellow', 'Blue'])\n",
      "dict_items([('1', 'Red'), ('2', 'Yellow'), ('3', 'Blue')])\n",
      "Red\n",
      "{'1': 'One', '2': 'Two', '3': 'Blue'}\n",
      "value:One\n",
      "{'2': 'Two', '3': 'Blue'}\n",
      "item from method popitem:('3', 'Blue')\n",
      "{'2': 'Two'}\n"
     ]
    }
   ],
   "source": [
    "\"\"\"\" Common Methods: keys(), values(), items(), get(), update(), pop(), popitem() \"\"\"\n",
    "\n",
    "student_name = {'1':\"Red\",'2':\"Yellow\",'3':\"Blue\"}\n",
    "\n",
    "\n",
    "# keys()\n",
    "print(student_name.keys())\n",
    "\n",
    "# values()\n",
    "print(student_name.values())\n",
    "\n",
    "# items()\n",
    "print(student_name.items())\n",
    "\n",
    "#get()\n",
    "keyget = student_name.get(\"1\")\n",
    "print(keyget)\n",
    "\n",
    "#update ()\n",
    "student_name.update({'1':\"One\",'2':\"Two\"})\n",
    "print(student_name)\n",
    "\n",
    "# metod: pop(): pop specific item\n",
    "value = student_name.pop('1')\n",
    "print(f\"value:{value}\")\n",
    "\n",
    "print(student_name)\n",
    "\n",
    "# popitem: pop key and value\n",
    "items = student_name.popitem()\n",
    "print(f\"item from method popitem:{items}\")\n",
    "print(student_name)\n",
    "\n"
   ]
  },
  {
   "cell_type": "code",
   "execution_count": 8,
   "metadata": {},
   "outputs": [
    {
     "name": "stdout",
     "output_type": "stream",
     "text": [
      "union_set: {1, 2, 3, 4, 5, 6}\n",
      "Intersection_set: {3, 4}\n",
      "difference_set: {1, 2}\n",
      "symmetric_difference_set: {1, 2, 5, 6}\n"
     ]
    }
   ],
   "source": [
    "# Page 8 | Operations on Sets\n",
    "# Set Operations: Union (|), Intersection (&), Difference (-), Symmetric Difference (^)\n",
    "\n",
    "set1 = {1, 2, 3, 4}\n",
    "set2 = {3, 4, 5, 6}\n",
    "\n",
    "# รวมเซ็ตที่ 1 และ 2 เข้าด้วยกัน\n",
    "union_set = set1 | set2\n",
    "print(\"union_set:\", union_set)\n",
    "\n",
    "# เอาเฉพาะตัวเลขที่ซ้ำกันใน set\n",
    "intersection_set = set1 & set2\n",
    "print(\"Intersection_set:\", intersection_set)\n",
    "\n",
    "# เอาเฉพาะค่าที่ต้างกันใน set\n",
    "difference_set = set1 - set2\n",
    "print(\"difference_set:\", difference_set)\n",
    "\n",
    "# ไม่เอาค่าที่เหมือนกันใน set\n",
    "symmetric_difference_set = set1 ^ set2\n",
    "print(\"symmetric_difference_set:\", symmetric_difference_set)"
   ]
  },
  {
   "cell_type": "code",
   "execution_count": 9,
   "metadata": {},
   "outputs": [
    {
     "name": "stdout",
     "output_type": "stream",
     "text": [
      "even_numbers: {2, 4, 6, 8, 10}\n"
     ]
    }
   ],
   "source": [
    "# Page 11 | Dictionary and Set Comprehensions\n",
    "# Set Comprehensions\n",
    "\n",
    "even_numbers = {x for x in range(1,11) if x % 2 == 0}\n",
    "print(\"even_numbers:\", even_numbers)"
   ]
  },
  {
   "cell_type": "code",
   "execution_count": 1,
   "metadata": {},
   "outputs": [
    {
     "name": "stdout",
     "output_type": "stream",
     "text": [
      "Bob's grade: 92\n",
      "Alice: 85\n",
      "Bob: 92\n",
      "Charlie: 88\n",
      "David: 95\n",
      "Eve: 90\n",
      "Frank's grade: Garde not found\n"
     ]
    }
   ],
   "source": [
    "# Page 12 | Advance Example : Working with Dictionaries\n",
    "\n",
    "# Example 1: Working with dictionaries\n",
    "\n",
    "# Creating a dictionary of student grades\n",
    "grades = {'Alice': 85, 'Bob': 92, 'Charlie': 88, 'David': 95}\n",
    "\n",
    "# Accessing values using keys\n",
    "print(\"Bob's grade:\", grades['Bob'])  # Output: Bob's grade: 92\n",
    "\n",
    "# Adding a new city\n",
    "grades['Eve'] = 90\n",
    "\n",
    "# Interating through keys and values\n",
    "for student, grade in grades.items():\n",
    "    print(f\"{student}: {grade}\")\n",
    "\n",
    "# Using get() method to avoid KeyError\n",
    "print(\"Frank's grade:\", grades.get(\"Frank\", \"Garde not found\"))  # Output: Frank's grade: Grade"
   ]
  },
  {
   "cell_type": "code",
   "execution_count": 3,
   "metadata": {},
   "outputs": [
    {
     "name": "stdout",
     "output_type": "stream",
     "text": [
      "Union set: {1, 2, 3, 4, 5, 6, 7}\n",
      "Intersection set: {3, 4, 5}\n",
      "Difference set (set1 - set2): {1, 2}\n",
      "symmetric_difference_set: {1, 2, 6, 7}\n"
     ]
    }
   ],
   "source": [
    "# Page 13 | Advace Example : Set Operations\n",
    "\n",
    "# Example 2: Set Operations\n",
    "\n",
    "set1 = {1, 2, 3, 4, 5}\n",
    "set2 = {3, 4, 5, 6, 7}\n",
    "\n",
    "# Union of two sets\n",
    "union_set = set1 | set2\n",
    "print(\"Union set:\", union_set)  # Output: Union set: {1, 2, 3, 4, 5, 6, 7}\n",
    "\n",
    "# Intersection of two sets\n",
    "intersection_set = set1 & set2\n",
    "print(\"Intersection set:\", intersection_set)  # Output: Intersection set: {3,4,5}\n",
    "\n",
    "# Difference between two sets\n",
    "difference_set = set1 - set2 \n",
    "print(\"Difference set (set1 - set2):\", difference_set)\n",
    "\n",
    "# Sysmetric difference betwwn two sets\n",
    "symmetric_difference_set = set1 ^ set2\n",
    "print(\"symmetric_difference_set:\",symmetric_difference_set)\n",
    "\n"
   ]
  },
  {
   "cell_type": "code",
   "execution_count": 4,
   "metadata": {},
   "outputs": [
    {
     "name": "stdout",
     "output_type": "stream",
     "text": [
      "Is set1 a subset of set2? False\n",
      "Is set2 a supersest of set1? False\n"
     ]
    }
   ],
   "source": [
    "# Page 15 Advance Example : Set Operations and Methods\n",
    "\n",
    "set1 = {1, 2, 3, 4}\n",
    "set2 = {3, 4, 5, 6}\n",
    "\n",
    "# Adding elements to a set\n",
    "set1.add(5)\n",
    "\n",
    "# Removing elements from a set\n",
    "set2.discard(6)\n",
    "\n",
    "\n",
    "# Checking subset and superset\n",
    "print(\"Is set1 a subset of set2?\", set1.issubset(set2)) # Output: IS set1 a subset of set2? False\n",
    "print(\"Is set2 a supersest of set1?\", set2.issuperset(set1)) # Output: Is set2 a superset of set1? False"
   ]
  },
  {
   "cell_type": "code",
   "execution_count": 20,
   "metadata": {},
   "outputs": [
    {
     "name": "stdout",
     "output_type": "stream",
     "text": [
      "True\n"
     ]
    }
   ],
   "source": [
    "# test Superset\n",
    "\n",
    "set1 = {1, 2, 3, 4}\n",
    "set2 = {3, 4}\n",
    "\n",
    "value_superset = set1.issuperset(set2)\n",
    "print(value_superset)"
   ]
  },
  {
   "cell_type": "code",
   "execution_count": 21,
   "metadata": {},
   "outputs": [
    {
     "name": "stdout",
     "output_type": "stream",
     "text": [
      "Unique elements: {1, 2, 3, 4}\n"
     ]
    }
   ],
   "source": [
    "# Page 16 | Advance Example : Using Sets for Unique Operations\n",
    "\n",
    "# Example 5: Using sets for unique operations\n",
    "\n",
    "# Finding unique elements from multiple lists\n",
    "list1 = [1, 2, 3, 4, 5]\n",
    "list2 = [3, 4, 5, 6, 7]\n",
    "list3 = [5, 6, 7, 8, 9]\n",
    "\n",
    "unique_elements = set(list1).union(set(list2)).difference(set(list3))\n",
    "print(\"Unique elements:\", unique_elements) # Output: Unique elements: {1,2,3,4}"
   ]
  },
  {
   "cell_type": "code",
   "execution_count": 22,
   "metadata": {},
   "outputs": [
    {
     "name": "stdout",
     "output_type": "stream",
     "text": [
      "Average Grades: {'Alice': 89.0, 'Bob': 86.66666666666667, 'Charlie': 90.0}\n"
     ]
    }
   ],
   "source": [
    "# Page 18\n",
    "# Given list of students grades, aclculate the average grade for each student and store them in a dictionary\n",
    "\n",
    "grades = {'Alice': [85,90,92], 'Bob': [88,87,85], 'Charlie': [90, 91, 89]}\n",
    "avearage_grades = {}\n",
    "\n",
    "for student, grade_list in grades.items():\n",
    "    avearage_grades[student] = sum(grade_list) / len(grade_list)\n",
    "    \n",
    "print(\"Average Grades:\", avearage_grades)"
   ]
  }
 ],
 "metadata": {
  "kernelspec": {
   "display_name": "Python 3",
   "language": "python",
   "name": "python3"
  },
  "language_info": {
   "codemirror_mode": {
    "name": "ipython",
    "version": 3
   },
   "file_extension": ".py",
   "mimetype": "text/x-python",
   "name": "python",
   "nbconvert_exporter": "python",
   "pygments_lexer": "ipython3",
   "version": "3.12.4"
  }
 },
 "nbformat": 4,
 "nbformat_minor": 2
}
