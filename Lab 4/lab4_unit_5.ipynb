{
 "cells": [
  {
   "cell_type": "code",
   "execution_count": 4,
   "metadata": {},
   "outputs": [
    {
     "name": "stdout",
     "output_type": "stream",
     "text": [
      "List after append: [1, 2, 4, 3, 5, 6]\n",
      "List after extend: [1, 2, 4, 3, 5, 6, 55, 66]\n",
      "List after insert[1]: 20: [1, 20, 2, 4, 3, 5, 6, 55, 66]\n",
      "List after remove 20: [1, 2, 4, 3, 5, 6, 55, 66]\n",
      "List after pop: [1, 2, 4, 3, 5, 6, 55]\n",
      "Pop value: 66\n",
      "Value 4 in index: 2\n",
      "List after count(2): 1\n",
      "List after Sort: [1, 2, 3, 4, 5, 6, 55]\n",
      "List after Reverse: [55, 6, 5, 4, 3, 2, 1]\n"
     ]
    }
   ],
   "source": [
    "# Slide Unit 5 page 13, 14, 15,16, 18, 20\n",
    "# เปิดไฟล์ Slide Unit 5 เขียนโค้ดโปรแกรมหน้าที่ 13, 14, 15, 16, 18, 20\n",
    "\n",
    "\"\"\"\" Common Metthods: \n",
    "append(), extend(), insert()\n",
    "remove(), pop(), index()\n",
    "count(), sort(), reverse()\n",
    "\"\"\"\n",
    "# test use funtions method\n",
    "\n",
    "# Define list\n",
    "list = [1, 2, 4, 3, 5]\n",
    "list_extend = [55,66]\n",
    "\n",
    "# append(): add one elements in to list\n",
    "list.append(6)\n",
    "print(\"List after append:\", list)\n",
    "\n",
    "# extend(): add more elements in to list\n",
    "list.extend(list_extend)\n",
    "print(\"List after extend:\", list)\n",
    "\n",
    "# insert(): Can define data to index and element \n",
    "list.insert(1,20)\n",
    "print(\"List after insert[1]: 20:\", list)\n",
    "\n",
    "# remove(): Delete the data completely.\n",
    "list.remove(20)\n",
    "print(\"List after remove 20:\", list)\n",
    "\n",
    "# pop(): pop data Last in - Frist Out stack\n",
    "pop_data = list.pop()\n",
    "print(\"List after pop:\", list)\n",
    "print(\"Pop value:\", pop_data)\n",
    "\n",
    "# index(): Find the value data in index\n",
    "print(\"Value 4 in index:\", list.index(4))\n",
    "\n",
    "# count(): count value you want in list\n",
    "print(\"List after count(2):\", list.count(2))\n",
    "\n",
    "# sort()\n",
    "list.sort()\n",
    "print(\"List after Sort:\", list)\n",
    "\n",
    "# reverse()\n",
    "list.reverse()\n",
    "print(\"List after Reverse:\", list)\n"
   ]
  },
  {
   "cell_type": "code",
   "execution_count": 2,
   "metadata": {},
   "outputs": [
    {
     "name": "stdout",
     "output_type": "stream",
     "text": [
      "Updated list: [2, 10, 4, 5, 6]\n"
     ]
    }
   ],
   "source": [
    "\"\"\"\" Page 13  | Advance Example : Creating and Manipulating Lists \"\"\"\n",
    "# Example 1: Creating and manipulating lists\n",
    "\n",
    "# Craeting a list of numbers\n",
    "numbers =[1,2,3,4,5]\n",
    "\n",
    "# Adding elements to the end of the list\n",
    "numbers.append(6)\n",
    "\n",
    "# Modifying an element at a specific index\n",
    "numbers[2] = 10\n",
    "\n",
    "# Removing an element by value\n",
    "numbers.remove(1)\n",
    "\n",
    "print(\"Updated list:\", numbers)"
   ]
  },
  {
   "cell_type": "code",
   "execution_count": 5,
   "metadata": {},
   "outputs": [
    {
     "name": "stdout",
     "output_type": "stream",
     "text": [
      "Squares: [1, 4, 9, 16, 25]\n"
     ]
    }
   ],
   "source": [
    "\"\"\"\" Page 14 | Advance Example : List Comprehensions \"\"\"\n",
    "\n",
    "# Example 2: List Comprehension to create a new list\n",
    "\n",
    "# Creating a list of sqaures of numbers from 1 to 5\n",
    "squares = [x **2 for x in range(1,6)]\n",
    "\n",
    "print(\"Squares:\",squares)  # Output: [1, 4, 9, 16, 25]"
   ]
  },
  {
   "cell_type": "code",
   "execution_count": 53,
   "metadata": {},
   "outputs": [
    {
     "name": "stdout",
     "output_type": "stream",
     "text": [
      "Sorted list: [1, 2, 3, 5, 8]\n",
      "Reversed list: [8, 5, 3, 2, 1]\n"
     ]
    }
   ],
   "source": [
    "\"\"\"\" Page 15 | Advance Example : Sorting and Reversing Lists \"\"\"\n",
    "\n",
    "# Example 3: Sorting and reversing a list\n",
    "\n",
    "numbers = [5, 2, 8, 1, 3]\n",
    "\n",
    "# Sorting the list\n",
    "numbers.sort()\n",
    "print(\"Sorted list:\",numbers)  # Output [1, 2, 3, 5, 8]\n",
    "\n",
    "# Reversing the list\n",
    "numbers.reverse()\n",
    "print(\"Reversed list:\", numbers)  # Output [8, 5, 3, 2, 1]\n"
   ]
  },
  {
   "cell_type": "code",
   "execution_count": 7,
   "metadata": {},
   "outputs": [
    {
     "name": "stdout",
     "output_type": "stream",
     "text": [
      "2\n"
     ]
    }
   ],
   "source": [
    "\"\"\"  Page 16 | Advance Example : Nested Lists \"\"\"\n",
    "\n",
    "# Example 4: Nested lists\n",
    "\n",
    "# matrix start begin row = 0 and colume = 0\n",
    "matrix = [\n",
    "    [1,2,3],\n",
    "    [4,5,6],\n",
    "    [7,8,9]\n",
    "]\n",
    "\n",
    "# Acessing elements in the matrix \n",
    "rows = int(input(\"Enter row:\"))\n",
    "colume = int(input(\"Enter Colume:\"))\n",
    "print(matrix[rows][colume]) \n"
   ]
  },
  {
   "cell_type": "code",
   "execution_count": 2,
   "metadata": {},
   "outputs": [
    {
     "name": "stdout",
     "output_type": "stream",
     "text": [
      "Peopped item from stack: 3\n",
      "Dequeued item from queue: 1\n"
     ]
    }
   ],
   "source": [
    "\"\"\" Page 18| Advace Example: List as Stacks and Queues \"\"\"\n",
    "\n",
    "# Example 6: Using lists as stacks and queues\n",
    "\n",
    "# Stack operations (Last In, Frist Out - LIFOd)\n",
    "stack = []\n",
    "stack.append(1)\n",
    "stack.append(2)\n",
    "stack.append(3)\n",
    "popped_item = stack.pop()\n",
    "print(\"Peopped item from stack:\", popped_item) # Output: Popped item from stack: 3\n",
    "\n",
    "# Queue operations (Frist In, Frist Out - FIFO)\n",
    "from collections import deque\n",
    "queue = deque([1, 2, 3])\n",
    "queue.append(4)\n",
    "dequeued_item = queue.popleft()\n",
    "print(\"Dequeued item from queue:\", dequeued_item)  # Output: Dequeued item from queue: 1"
   ]
  },
  {
   "cell_type": "code",
   "execution_count": 8,
   "metadata": {},
   "outputs": [
    {
     "name": "stdout",
     "output_type": "stream",
     "text": [
      "Numbers after removal [1, 2, 4, 5, 6, 7, 1]\n",
      "Sum of remaining numbers: 26\n",
      "Count number list: 2\n"
     ]
    }
   ],
   "source": [
    "\"\"\" Page 20| Practice Exercise \"\"\"\n",
    "\n",
    "# given a list numbers, remove all occurrences of a specific numbers and calculate the sum of remaining numbers.\n",
    "\n",
    "numbers = [1,2,3,4,5,3,6,7,3,1]\n",
    "remove_num = 3\n",
    "\n",
    "while remove_num in numbers:\n",
    "    numbers.remove(remove_num)\n",
    "    \n",
    "print(\"Numbers after removal\", numbers)\n",
    "print(\"Sum of remaining numbers:\", sum(numbers))\n",
    "print(\"Count number list:\", numbers.count(1))"
   ]
  }
 ],
 "metadata": {
  "kernelspec": {
   "display_name": "Python 3",
   "language": "python",
   "name": "python3"
  },
  "language_info": {
   "codemirror_mode": {
    "name": "ipython",
    "version": 3
   },
   "file_extension": ".py",
   "mimetype": "text/x-python",
   "name": "python",
   "nbconvert_exporter": "python",
   "pygments_lexer": "ipython3",
   "version": "3.12.4"
  }
 },
 "nbformat": 4,
 "nbformat_minor": 2
}
