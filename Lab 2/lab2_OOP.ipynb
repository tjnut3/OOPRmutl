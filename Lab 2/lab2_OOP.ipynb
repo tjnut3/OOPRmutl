{
 "cells": [
  {
   "cell_type": "code",
   "execution_count": 4,
   "metadata": {},
   "outputs": [
    {
     "name": "stdout",
     "output_type": "stream",
     "text": [
      "\n",
      "*\n",
      "**\n",
      "***\n",
      "****\n",
      "*****\n"
     ]
    }
   ],
   "source": [
    "# lab 2.1 รูปที่ 1 \n",
    "num = int(input(\"Enter num =\"))\n",
    "\n",
    "for i in range(0,num+1):\n",
    "    for j in range(0,i):\n",
    "        print('*', end ='')\n",
    "    print () \n"
   ]
  },
  {
   "cell_type": "code",
   "execution_count": 5,
   "metadata": {},
   "outputs": [
    {
     "name": "stdout",
     "output_type": "stream",
     "text": [
      "*****\n",
      "****\n",
      "***\n",
      "**\n",
      "*\n"
     ]
    }
   ],
   "source": [
    "# lab 2.1 รูปที่ 2\n",
    "\n",
    "for i in range(num,0,-1):\n",
    "    for j in range(i):\n",
    "        print('*', end ='')\n",
    "    print () \n"
   ]
  },
  {
   "cell_type": "code",
   "execution_count": 6,
   "metadata": {},
   "outputs": [
    {
     "name": "stdout",
     "output_type": "stream",
     "text": [
      "    *\n",
      "   * *\n",
      "  * * *\n",
      " * * * *\n",
      "* * * * *\n"
     ]
    }
   ],
   "source": [
    "# lab 2.1 รูปที่ 3\n",
    "for i in range(num):\n",
    "    for j in range(num - i - 1):\n",
    "        print(' ', end='')\n",
    "    for k in range(i + 1):\n",
    "        if k < i:\n",
    "            print('* ', end='')\n",
    "        else:\n",
    "            print('*', end='')\n",
    "    print()\n"
   ]
  },
  {
   "cell_type": "code",
   "execution_count": 7,
   "metadata": {},
   "outputs": [
    {
     "name": "stdout",
     "output_type": "stream",
     "text": [
      "* * * * *\n",
      " * * * *\n",
      "  * * *\n",
      "   * *\n",
      "    *\n"
     ]
    }
   ],
   "source": [
    "# lab 2.1 รูปที่ 4\n",
    "for i in range(num):\n",
    "    for j in range(i):\n",
    "        print(' ', end='')\n",
    "    for k in range(num - i):\n",
    "        if k < num - i - 1:\n",
    "            print('* ', end='')\n",
    "        else:\n",
    "            print('*', end='')\n",
    "    print()\n"
   ]
  },
  {
   "cell_type": "code",
   "execution_count": 8,
   "metadata": {},
   "outputs": [
    {
     "name": "stdout",
     "output_type": "stream",
     "text": [
      "    *\n",
      "   **\n",
      "  ***\n",
      " ****\n",
      "*****\n"
     ]
    }
   ],
   "source": [
    "# lab 2.1 รูปที่ 5\n",
    "for i in range(1, num + 1):\n",
    "    for j in range(num - i):\n",
    "        print(' ', end='') \n",
    "    for k in range(i):\n",
    "        print('*', end='')\n",
    "    print()\n"
   ]
  },
  {
   "cell_type": "code",
   "execution_count": 11,
   "metadata": {},
   "outputs": [
    {
     "name": "stdout",
     "output_type": "stream",
     "text": [
      "* \n",
      "* * \n",
      "* * * \n",
      "* * * * \n",
      "* * * * * \n"
     ]
    }
   ],
   "source": [
    "# lab2.2 ห้ามใช้ loop (ใช้ Recursive) รูปที่ 1 \n",
    "def print_pattern(n, max_rows):\n",
    "    if n > max_rows:\n",
    "        return\n",
    "    print('' * (max_rows - n), end='')\n",
    "    print('* ' * n)\n",
    "    print_pattern(n + 1, max_rows)\n",
    "\n",
    "max_rows = int(input(\"Enter num =\"))\n",
    "\n",
    "print_pattern(1, max_rows)\n"
   ]
  },
  {
   "cell_type": "code",
   "execution_count": 8,
   "metadata": {},
   "outputs": [
    {
     "name": "stdout",
     "output_type": "stream",
     "text": [
      "* * * * * \n",
      "* * * * \n",
      "* * * \n",
      "* * \n",
      "* \n"
     ]
    }
   ],
   "source": [
    "\n",
    "def print_pattern(max_rows, n):\n",
    "    if n > max_rows:\n",
    "        return\n",
    "    print('' * (max_rows - n), end='')\n",
    "    print('* ' * max_rows)\n",
    "    print_pattern(max_rows -1, n)\n",
    "\n",
    "print_pattern(max_rows, 1)\n"
   ]
  },
  {
   "cell_type": "code",
   "execution_count": 15,
   "metadata": {},
   "outputs": [
    {
     "name": "stdout",
     "output_type": "stream",
     "text": [
      "    * \n",
      "   * * \n",
      "  * * * \n",
      " * * * * \n",
      "* * * * * \n"
     ]
    }
   ],
   "source": [
    "# lab2.2 ห้ามใช้ loop (ใช้ Recursive) รูปที่ 3\n",
    "def print_pattern(n, max_rows):\n",
    "    if n > max_rows:\n",
    "        return\n",
    "    print(' ' * (max_rows - n), end='')\n",
    "    print('* ' * n)\n",
    "\n",
    "    print_pattern(n + 1, max_rows)\n",
    "\n",
    "print_pattern(1, max_rows)\n"
   ]
  },
  {
   "cell_type": "code",
   "execution_count": 14,
   "metadata": {},
   "outputs": [
    {
     "name": "stdout",
     "output_type": "stream",
     "text": [
      "* * * * * \n",
      " * * * * \n",
      "  * * * \n",
      "   * * \n",
      "    * \n"
     ]
    }
   ],
   "source": [
    "# lab2.2 ห้ามใช้ loop (ใช้ Recursive) รูปที่ 4\n",
    "def print_pattern(max_rows, n):\n",
    "    if n > max_rows:\n",
    "        return\n",
    "    print(' ' * (5 - max_rows), end='')\n",
    "    print('* ' * max_rows)\n",
    "    print_pattern(max_rows -1, n)\n",
    "\n",
    "print_pattern(max_rows, 1)\n"
   ]
  },
  {
   "cell_type": "code",
   "execution_count": 12,
   "metadata": {},
   "outputs": [
    {
     "name": "stdout",
     "output_type": "stream",
     "text": [
      "        * \n",
      "      * * \n",
      "    * * * \n",
      "  * * * * \n",
      "* * * * * \n"
     ]
    }
   ],
   "source": [
    "# lab2.2 ห้ามใช้ loop (ใช้ Recursive) รูปที่ 5 \n",
    "def print_pattern(n, max_rows):\n",
    "    if n > max_rows:\n",
    "        return\n",
    "    print('  ' * (max_rows - n), end='')\n",
    "    print('* ' * n)\n",
    "    print_pattern(n + 1, max_rows)\n",
    "\n",
    "print_pattern(1, max_rows)\n"
   ]
  }
 ],
 "metadata": {
  "kernelspec": {
   "display_name": "Python 3",
   "language": "python",
   "name": "python3"
  },
  "language_info": {
   "codemirror_mode": {
    "name": "ipython",
    "version": 3
   },
   "file_extension": ".py",
   "mimetype": "text/x-python",
   "name": "python",
   "nbconvert_exporter": "python",
   "pygments_lexer": "ipython3",
   "version": "3.12.4"
  }
 },
 "nbformat": 4,
 "nbformat_minor": 2
}
