{
 "cells": [
  {
   "cell_type": "code",
   "execution_count": 20,
   "metadata": {},
   "outputs": [
    {
     "name": "stdout",
     "output_type": "stream",
     "text": [
      "25\n"
     ]
    }
   ],
   "source": [
    "#หน้าที่ 26  Lambda Functions:\n",
    "square = lambda x: x**2\n",
    "print(square(5))  # Output: 25"
   ]
  },
  {
   "cell_type": "code",
   "execution_count": 6,
   "metadata": {},
   "outputs": [
    {
     "name": "stdout",
     "output_type": "stream",
     "text": [
      "0\n",
      "1\n"
     ]
    }
   ],
   "source": [
    "#หน้าที่ 27  Generator Functions:\n",
    "def fibonacci():\n",
    "  a, b = 0, 1\n",
    "  while True:\n",
    "    yield a\n",
    "    a, b = b, a + b\n",
    "\n",
    "fib = fibonacci()\n",
    "print(next(fib))\n",
    "print(next(fib))"
   ]
  },
  {
   "cell_type": "code",
   "execution_count": 10,
   "metadata": {},
   "outputs": [
    {
     "name": "stdout",
     "output_type": "stream",
     "text": [
      "First element: 1\n",
      "Last element: 5\n",
      "Sliced elements: [3, 4]\n",
      "After append: [1, 2, 3, 4, 5, 6]\n",
      "After romoval: [1, 2, 4, 5, 6]\n"
     ]
    }
   ],
   "source": [
    "#หน้าที่ 28  Intermediate List Operations:\n",
    "\n",
    "#list initialization\n",
    "numbers = [1,2,3,4,5]\n",
    "\n",
    "# Acessing elements\n",
    "print(\"First element:\",numbers[0]) # Output: 1\n",
    "print(\"Last element:\",numbers[-1]) # Output: 5\n",
    "\n",
    "# Slicing\n",
    "print(\"Sliced elements:\",numbers[2:4]) # Output: [3,4]\n",
    "\n",
    "# Appending and extending\n",
    "numbers.append(6)\n",
    "print(\"After append:\",numbers) # Output: [1,2,3,4,5,6]\n",
    "\n",
    "#Removing elements\n",
    "numbers.remove(3)\n",
    "print(\"After romoval:\",numbers) # Output: [1,2,4,5,6]"
   ]
  },
  {
   "cell_type": "code",
   "execution_count": 12,
   "metadata": {},
   "outputs": [
    {
     "name": "stdout",
     "output_type": "stream",
     "text": [
      "Squares of even numbers: [0, 4, 16, 36, 64]\n"
     ]
    }
   ],
   "source": [
    "#หน้าที่ 29  Advanced List Comprehension:\n",
    "\n",
    "#List comprehension to create a list of squares of even numbers\n",
    "even_numbers = [x for x in range(10) if x % 2 == 0]\n",
    "squares = [num**2 for num in even_numbers]\n",
    "print(\"Squares of even numbers:\",squares)  # Output: [0,4,16,36,64]\n"
   ]
  },
  {
   "cell_type": "code",
   "execution_count": 14,
   "metadata": {},
   "outputs": [
    {
     "name": "stdout",
     "output_type": "stream",
     "text": [
      "Alice is 25 years old and lives in New York\n",
      "Bob is 30 years old and lives in Los Angeles\n",
      "Charlie is 35 years old and lives in Chicago\n"
     ]
    }
   ],
   "source": [
    "#หน้าที่ 30  Using zip() for Parallel Iteration:\n",
    "names = [\"Alice\",\"Bob\",\"Charlie\"]\n",
    "ages = [25,30,35]\n",
    "city = [\"New York\", \"Los Angeles\", \"Chicago\"]\n",
    "\n",
    "#Using zip() for parallel iteration\n",
    "for name, age, city in zip(names, ages, city):\n",
    "    print(f\"{name} is {age} years old and lives in {city}\")\n",
    "\n",
    "# Alice is 25 years old and lives in New York\n",
    "# Bob is 30 years old and lives in Los Angeles\n",
    "# Charlie is 35 years old and lives in Chicago"
   ]
  },
  {
   "cell_type": "code",
   "execution_count": 19,
   "metadata": {},
   "outputs": [
    {
     "name": "stdout",
     "output_type": "stream",
     "text": [
      "x-coordinate: 3\n",
      "x-coordinate: 5\n",
      "Location at (3, 5): Home\n"
     ]
    }
   ],
   "source": [
    "#หน้าที่ 31  Intermediate Tuple Operations:\n",
    "\n",
    "# Tuple initialization\n",
    "coordinates = (3,5)\n",
    "\n",
    "# Unpaxking tuples\n",
    "x, y = coordinates\n",
    "print(\"x-coordinate:\",x)  # x-coordinate: 3\n",
    "print(\"x-coordinate:\",y)  # x-coordinate: 5\n",
    "\n",
    "# Tuple as keys in dictionary\n",
    "location = {(3, 5): \"Home\", (10, 20): \"Office\"}\n",
    "print(\"Location at (3, 5):\", location[(3, 5)]) # Location at (3, 5): Home"
   ]
  },
  {
   "cell_type": "code",
   "execution_count": 30,
   "metadata": {},
   "outputs": [
    {
     "name": "stdout",
     "output_type": "stream",
     "text": [
      "Coordinates of p1: 3 5\n"
     ]
    }
   ],
   "source": [
    "#หน้าที่ 32  Named Tuples:\n",
    "\n",
    "from collections import namedtuple\n",
    "\n",
    "#Define a named tuple\n",
    "Point = namedtuple('Point',['x','y'])\n",
    "\n",
    "# Create instance of the named tuple\n",
    "p1 = Point(3,5)\n",
    "p2 = Point(-1,2)\n",
    "\n",
    "# Access elements by name\n",
    "print(\"Coordinates of p1:\", p1.x, p1.y) # Coordinates of p1: 3 5\n"
   ]
  },
  {
   "cell_type": "code",
   "execution_count": 31,
   "metadata": {},
   "outputs": [],
   "source": [
    "#หน้าที่ 33  Immutable Nature of Tuples:\n",
    "\n",
    "coordinates = (3,6)\n",
    "# Trying to midify a tuple (will raise an error)\n",
    "# coordinamtes[0] = 10\n",
    "# TypeError: 'tuple' object does not supporty item assignment\n"
   ]
  },
  {
   "cell_type": "code",
   "execution_count": 38,
   "metadata": {},
   "outputs": [
    {
     "name": "stdout",
     "output_type": "stream",
     "text": [
      "Name: Alice\n",
      "Updated age: 31\n",
      "name: Alice\n",
      "age: 31\n",
      "city: New York\n"
     ]
    }
   ],
   "source": [
    "#หน้าที่ 34  Intermediate Dictionary Operations:\n",
    "\n",
    "# Dictionary initialization\n",
    "person = {'name': 'Alice', 'age': 30, 'city': 'New York'}\n",
    "\n",
    "# Accessing values\n",
    "print(\"Name:\",person['name']) # Name: Alice\n",
    "\n",
    "#Updating values\n",
    "person['age'] = 31\n",
    "print(\"Updated age:\", person['age']) # Updated age: 31\n",
    "\n",
    "# Interating through keys and values\n",
    "for key, value in person.items():\n",
    "    print(f\"{key}: {value}\")\n"
   ]
  },
  {
   "cell_type": "code",
   "execution_count": 40,
   "metadata": {},
   "outputs": [
    {
     "name": "stdout",
     "output_type": "stream",
     "text": [
      "Dictionary of squares: {1: 1, 2: 4, 3: 9, 4: 16, 5: 25}\n"
     ]
    }
   ],
   "source": [
    "#หน้าที่ 35  Dictionary Comprehension:\n",
    "\n",
    "#Dictionary comprehension to create a dictionary of squares\n",
    "numers = [1,2,3,4,5]\n",
    "square_dict = {num: num**2 for num in numers}\n",
    "print(\"Dictionary of squares:\", square_dict)\n",
    "\n",
    "# Dictionary of squares: {1: 1, 2: 4, 3: 9, 4: 16, 5: 25}"
   ]
  },
  {
   "cell_type": "code",
   "execution_count": 42,
   "metadata": {},
   "outputs": [
    {
     "name": "stdout",
     "output_type": "stream",
     "text": [
      "City: Unknown\n"
     ]
    }
   ],
   "source": [
    "#หน้าที่ 36  Handling Missing Keys:\n",
    "\n",
    "person = {'name': 'Alice', 'age': 30}\n",
    "\n",
    "#Using get() method to handle missing keys\n",
    "city = person.get('city', 'Unknown')\n",
    "print(\"City:\", city) # City: Unknown"
   ]
  },
  {
   "cell_type": "code",
   "execution_count": 44,
   "metadata": {},
   "outputs": [
    {
     "name": "stdout",
     "output_type": "stream",
     "text": [
      "Average temperatures: {'New York': 30.0, 'Los Angeles': 73.0, 'Chicago': 20.0}\n"
     ]
    }
   ],
   "source": [
    "#หน้าที่ 37  Advanced Example: Dictionary of Lists\n",
    "\n",
    "# Dcitionary of lists: Mapping cities to thier temperatures\n",
    "cities = {\n",
    "    'New York': [32, 25, 30, 28, 35],\n",
    "    'Los Angeles': [75, 68, 72, 70, 80],\n",
    "    'Chicago': [20, 18, 22, 25, 15]\n",
    "}\n",
    "\n",
    "# Calculate average temperature for each city\n",
    "averages = {city: sum(temps) / len(temps) for city, temps in cities.items()}\n",
    "print(\"Average temperatures:\", averages)\n",
    "# Output Average temperatures: {'New York': 30.0, 'Los Angeles': 73.0, 'Chicago': 20.0}"
   ]
  }
 ],
 "metadata": {
  "kernelspec": {
   "display_name": "Python 3",
   "language": "python",
   "name": "python3"
  },
  "language_info": {
   "codemirror_mode": {
    "name": "ipython",
    "version": 3
   },
   "file_extension": ".py",
   "mimetype": "text/x-python",
   "name": "python",
   "nbconvert_exporter": "python",
   "pygments_lexer": "ipython3",
   "version": "3.11.9"
  }
 },
 "nbformat": 4,
 "nbformat_minor": 2
}
